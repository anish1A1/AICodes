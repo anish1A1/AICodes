{
 "cells": [
  {
   "cell_type": "code",
   "execution_count": null,
   "id": "1ae6ef84",
   "metadata": {},
   "outputs": [],
   "source": []
  },
  {
   "cell_type": "code",
   "execution_count": 2,
   "id": "5ae83eaa",
   "metadata": {},
   "outputs": [],
   "source": [
    "import re"
   ]
  },
  {
   "cell_type": "code",
   "execution_count": 2,
   "id": "a2fcd133",
   "metadata": {},
   "outputs": [
    {
     "data": {
      "text/plain": [
       "['(977)-193-2010', '9812345671']"
      ]
     },
     "execution_count": 2,
     "metadata": {},
     "output_type": "execute_result"
    }
   ],
   "source": [
    "text = '''\n",
    "\n",
    "wHleo I amd Anish my no. is (977)-193-2010 and  my revenuw is 90 million rupees now, letsd use regex to find number? like 2332 a phone no. J/+  9812345671\n",
    "'''\n",
    "pattern = '\\(\\d{3}\\)-\\d{3}-\\d{4}|\\d{10}'\n",
    "matches = re.findall(pattern,text)\n",
    "matches"
   ]
  },
  {
   "cell_type": "code",
   "execution_count": 4,
   "id": "556fb91d",
   "metadata": {},
   "outputs": [
    {
     "data": {
      "text/plain": [
       "['MitoChondiorio', 'Cellulas', 'Organ']"
      ]
     },
     "execution_count": 4,
     "metadata": {},
     "output_type": "execute_result"
    }
   ],
   "source": [
    "summary = '''\n",
    "\n",
    "Title 1 - About MitoChondiorio\n",
    "mito chondioa is asas jaosjasdd oasoas\n",
    "\n",
    "Title 2 - About Cellulas\n",
    "cellulas asi isdij isds dj\n",
    "\n",
    "Title 4 - About Organ\n",
    "asasklndslkknd asas asas\n",
    "'''\n",
    "sum_pattern = 'Title \\d - About ([^\\n]*)'\n",
    "only_title_name = re.findall(sum_pattern,summary)\n",
    "only_title_name\n"
   ]
  },
  {
   "cell_type": "markdown",
   "id": "37e9dd19",
   "metadata": {},
   "source": [
    "NLP Tutorial with Regex"
   ]
  },
  {
   "cell_type": "code",
   "execution_count": 5,
   "id": "d77717d7",
   "metadata": {},
   "outputs": [],
   "source": [
    "import re"
   ]
  },
  {
   "cell_type": "code",
   "execution_count": 13,
   "id": "2a0970ae",
   "metadata": {},
   "outputs": [
    {
     "data": {
      "text/plain": [
       "['412889912']"
      ]
     },
     "execution_count": 13,
     "metadata": {},
     "output_type": "execute_result"
    }
   ],
   "source": [
    "\n",
    "chat1='codebasics: Hello, I am having an issue with my order # 412889912'\n",
    "\n",
    "chat_1_val = 'order[^\\d]*([\\d]*)'\n",
    "gt_char1 = re.findall(chat_1_val, chat1)\n",
    "gt_char1 "
   ]
  },
  {
   "cell_type": "code",
   "execution_count": 17,
   "id": "ad6b1d0e",
   "metadata": {},
   "outputs": [
    {
     "data": {
      "text/plain": [
       "['412889912']"
      ]
     },
     "execution_count": 17,
     "metadata": {},
     "output_type": "execute_result"
    }
   ],
   "source": [
    "chat2='codebasics: I have a problem with my order number is 412889912'\n",
    "chat_2_val = 'order[^\\d]*([\\d]*)'\n",
    "gt_chat_2 = re.findall(chat_2_val, chat2)\n",
    "gt_chat_2"
   ]
  },
  {
   "cell_type": "code",
   "execution_count": 16,
   "id": "5ad22053",
   "metadata": {},
   "outputs": [
    {
     "data": {
      "text/plain": [
       "['412889912']"
      ]
     },
     "execution_count": 16,
     "metadata": {},
     "output_type": "execute_result"
    }
   ],
   "source": [
    "chat3='codebasics: My order 412889912 is having an issue, I was charged 300$ when online it says 280$'\n",
    "pattern = 'order[^\\d]*(\\d*)'\n",
    "matches = re.findall(pattern, chat3)\n",
    "matches"
   ]
  },
  {
   "cell_type": "code",
   "execution_count": 18,
   "id": "27b53b03",
   "metadata": {},
   "outputs": [],
   "source": [
    "# Easy may to reuse functions\n",
    "\n",
    "def get_pattern_match(pattern, text):\n",
    "    matched = re.findall(pattern, text)\n",
    "    if matched:\n",
    "        return matched[0]"
   ]
  },
  {
   "cell_type": "code",
   "execution_count": 20,
   "id": "39103260",
   "metadata": {},
   "outputs": [
    {
     "data": {
      "text/plain": [
       "'412889912'"
      ]
     },
     "execution_count": 20,
     "metadata": {},
     "output_type": "execute_result"
    }
   ],
   "source": [
    "get_pattern_match('order[^\\d]*(\\d*)', chat3)"
   ]
  },
  {
   "cell_type": "markdown",
   "id": "47191762",
   "metadata": {},
   "source": [
    "Now to get the email id and phone"
   ]
  },
  {
   "cell_type": "code",
   "execution_count": 26,
   "id": "fa8c666a",
   "metadata": {},
   "outputs": [],
   "source": [
    "chat_em1 = 'codebasics: you ask lot of questions 😠  1235678912, abc@xyz.com'\n",
    "chat_em2 = 'codebasics: here it is: (123)-567-8912, abc@xyz.com'\n",
    "chat_em3 = 'codebasics: yes, phone: 1235678912 email: abc@xyz.com'"
   ]
  },
  {
   "cell_type": "code",
   "execution_count": 27,
   "id": "25fd0f90",
   "metadata": {},
   "outputs": [
    {
     "data": {
      "text/plain": [
       "'abc@xyz.com'"
      ]
     },
     "execution_count": 27,
     "metadata": {},
     "output_type": "execute_result"
    }
   ],
   "source": [
    "get_pattern_match('[a-zA-Z0-9_]*@[a-z]*\\.[a-z0-9A-Z]*', chat_em1)"
   ]
  },
  {
   "cell_type": "code",
   "execution_count": 28,
   "id": "0e91f1b4",
   "metadata": {},
   "outputs": [
    {
     "data": {
      "text/plain": [
       "'abc@xyz.com'"
      ]
     },
     "execution_count": 28,
     "metadata": {},
     "output_type": "execute_result"
    }
   ],
   "source": [
    "get_pattern_match('[a-zA-Z0-9_]*@[a-z]*\\.[a-z0-9A-Z]*', chat_em2)\n"
   ]
  },
  {
   "cell_type": "code",
   "execution_count": 29,
   "id": "ecab6207",
   "metadata": {},
   "outputs": [
    {
     "data": {
      "text/plain": [
       "'abc@xyz.com'"
      ]
     },
     "execution_count": 29,
     "metadata": {},
     "output_type": "execute_result"
    }
   ],
   "source": [
    "get_pattern_match('[a-zA-Z0-9_]*@[a-z]*\\.[a-z0-9A-Z]*', chat_em3)"
   ]
  },
  {
   "cell_type": "markdown",
   "id": "5d4a23c7",
   "metadata": {},
   "source": [
    "For Phone Number"
   ]
  },
  {
   "cell_type": "code",
   "execution_count": 30,
   "id": "7020b773",
   "metadata": {},
   "outputs": [
    {
     "data": {
      "text/plain": [
       "('1235678912', '')"
      ]
     },
     "execution_count": 30,
     "metadata": {},
     "output_type": "execute_result"
    }
   ],
   "source": [
    "get_pattern_match('(\\d{10})|(\\(\\d{3}\\)-\\d{3}-\\d{4})',chat_em1)"
   ]
  },
  {
   "cell_type": "code",
   "execution_count": 31,
   "id": "eed964fa",
   "metadata": {},
   "outputs": [
    {
     "data": {
      "text/plain": [
       "('1235678912', '')"
      ]
     },
     "execution_count": 31,
     "metadata": {},
     "output_type": "execute_result"
    }
   ],
   "source": [
    "get_pattern_match('(\\d{10})|(\\(\\d{3}\\)-\\d{3}-\\d{4})',chat_em3)"
   ]
  },
  {
   "cell_type": "code",
   "execution_count": 32,
   "id": "b5ad97cc",
   "metadata": {},
   "outputs": [
    {
     "data": {
      "text/plain": [
       "('1235678912', '')"
      ]
     },
     "execution_count": 32,
     "metadata": {},
     "output_type": "execute_result"
    }
   ],
   "source": [
    "get_pattern_match('(\\d{10})|(\\(\\d{3}\\)-\\d{3}-\\d{4})',chat_em3)"
   ]
  },
  {
   "cell_type": "markdown",
   "id": "4ee5ee80",
   "metadata": {},
   "source": [
    "Regex for Information Extraction"
   ]
  },
  {
   "cell_type": "code",
   "execution_count": 35,
   "id": "fc300eb9",
   "metadata": {},
   "outputs": [],
   "source": [
    "text='''\n",
    "Born\tElon Reeve Musk\n",
    "June 28, 1971 (age 50)\n",
    "Pretoria, Transvaal, South Africa\n",
    "Citizenship\t\n",
    "South Africa (1971–present)\n",
    "Canada (1971–present)\n",
    "United States (2002–present)\n",
    "Education\tUniversity of Pennsylvania (BS, BA)\n",
    "Title\t\n",
    "Founder, CEO and Chief Engineer of SpaceX\n",
    "CEO and product architect of Tesla, Inc.\n",
    "Founder of The Boring Company and X.com (now part of PayPal)\n",
    "Co-founder of Neuralink, OpenAI, and Zip2\n",
    "Spouse(s)\t\n",
    "Justine Wilson\n",
    "​\n",
    "​(m. 2000; div. 2008)​\n",
    "Talulah Riley\n",
    "​\n",
    "​(m. 2010; div. 2012)​\n",
    "​\n",
    "​(m. 2013; div. 2016)\n",
    "'''"
   ]
  },
  {
   "cell_type": "code",
   "execution_count": 45,
   "id": "d5f172eb",
   "metadata": {},
   "outputs": [
    {
     "data": {
      "text/plain": [
       "'50'"
      ]
     },
     "execution_count": 45,
     "metadata": {},
     "output_type": "execute_result"
    }
   ],
   "source": [
    "get_pattern_match('age (\\d+)', text)"
   ]
  },
  {
   "cell_type": "code",
   "execution_count": 37,
   "id": "e50d2dae",
   "metadata": {},
   "outputs": [
    {
     "data": {
      "text/plain": [
       "'Elon Reeve Musk'"
      ]
     },
     "execution_count": 37,
     "metadata": {},
     "output_type": "execute_result"
    }
   ],
   "source": [
    "get_pattern_match('Born(.*)\\n', text).strip()"
   ]
  },
  {
   "cell_type": "code",
   "execution_count": null,
   "id": "0d79ecc0",
   "metadata": {},
   "outputs": [
    {
     "data": {
      "text/plain": [
       "'June 28, 1971 '"
      ]
     },
     "execution_count": 38,
     "metadata": {},
     "output_type": "execute_result"
    }
   ],
   "source": [
    "get_pattern_match('Born.*\\n(.*)\\(age',text)"
   ]
  },
  {
   "cell_type": "code",
   "execution_count": 39,
   "id": "3a15c050",
   "metadata": {},
   "outputs": [
    {
     "data": {
      "text/plain": [
       "'Pretoria, Transvaal, South Africa'"
      ]
     },
     "execution_count": 39,
     "metadata": {},
     "output_type": "execute_result"
    }
   ],
   "source": [
    "get_pattern_match('age.*\\n(.*)', text)"
   ]
  },
  {
   "cell_type": "code",
   "execution_count": 46,
   "id": "c6e7d486",
   "metadata": {},
   "outputs": [],
   "source": [
    "def getElonData(text):\n",
    "    age = get_pattern_match('age (\\d+)', text)\n",
    "    f_name = get_pattern_match('Born(.*)\\n', text).strip()\n",
    "    dob = get_pattern_match('Born.*\\n(.*)\\(age',text)\n",
    "    location = get_pattern_match('age.*\\n(.*)', text)\n",
    "    \n",
    "    return {\n",
    "        'age': int(age),\n",
    "        'name': f_name.strip(),\n",
    "        'dob' : dob.strip(),\n",
    "        'location': location.strip()\n",
    "    }"
   ]
  },
  {
   "cell_type": "code",
   "execution_count": 47,
   "id": "dbc66310",
   "metadata": {},
   "outputs": [
    {
     "data": {
      "text/plain": [
       "{'age': 50,\n",
       " 'name': 'Elon Reeve Musk',\n",
       " 'dob': 'June 28, 1971',\n",
       " 'location': 'Pretoria, Transvaal, South Africa'}"
      ]
     },
     "execution_count": 47,
     "metadata": {},
     "output_type": "execute_result"
    }
   ],
   "source": [
    "getElonData(text)"
   ]
  },
  {
   "cell_type": "code",
   "execution_count": 50,
   "id": "fe390958",
   "metadata": {},
   "outputs": [],
   "source": [
    "an_text = '''\n",
    "Born\tMukesh Dhirubhai Ambani\n",
    "19 April 1957 (age 64)\n",
    "Aden, Colony of Aden\n",
    "(present-day Yemen)[1][2]\n",
    "Nationality\tIndian\n",
    "Alma mater\t\n",
    "St. Xavier's College, Mumbai\n",
    "Institute of Chemical Technology (B.E.)\n",
    "Stanford University (drop-out)\n",
    "Occupation\tChairman and MD, Reliance Industries\n",
    "Spouse(s)\tNita Ambani ​(m. 1985)​[3]\n",
    "Children\t3\n",
    "Parent(s)\t\n",
    "Dhirubhai Ambani (father)\n",
    "Kokilaben Ambani (mother)\n",
    "Relatives\tAnil Ambani (brother)\n",
    "Tina Ambani (sister-in-law)\n",
    "'''"
   ]
  },
  {
   "cell_type": "code",
   "execution_count": 51,
   "id": "1de9efa4",
   "metadata": {},
   "outputs": [
    {
     "data": {
      "text/plain": [
       "{'age': 64,\n",
       " 'name': 'Mukesh Dhirubhai Ambani',\n",
       " 'dob': '19 April 1957',\n",
       " 'location': 'Aden, Colony of Aden'}"
      ]
     },
     "execution_count": 51,
     "metadata": {},
     "output_type": "execute_result"
    }
   ],
   "source": [
    "getElonData(an_text)"
   ]
  }
 ],
 "metadata": {
  "kernelspec": {
   "display_name": "Python 3",
   "language": "python",
   "name": "python3"
  },
  "language_info": {
   "codemirror_mode": {
    "name": "ipython",
    "version": 3
   },
   "file_extension": ".py",
   "mimetype": "text/x-python",
   "name": "python",
   "nbconvert_exporter": "python",
   "pygments_lexer": "ipython3",
   "version": "3.11.4"
  }
 },
 "nbformat": 4,
 "nbformat_minor": 5
}
