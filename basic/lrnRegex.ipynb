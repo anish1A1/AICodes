{
 "cells": [
  {
   "cell_type": "code",
   "execution_count": null,
   "id": "1ae6ef84",
   "metadata": {},
   "outputs": [],
   "source": []
  },
  {
   "cell_type": "code",
   "execution_count": 2,
   "id": "5ae83eaa",
   "metadata": {},
   "outputs": [],
   "source": [
    "import re"
   ]
  },
  {
   "cell_type": "code",
   "execution_count": 2,
   "id": "a2fcd133",
   "metadata": {},
   "outputs": [
    {
     "data": {
      "text/plain": [
       "['(977)-193-2010', '9812345671']"
      ]
     },
     "execution_count": 2,
     "metadata": {},
     "output_type": "execute_result"
    }
   ],
   "source": [
    "text = '''\n",
    "\n",
    "wHleo I amd Anish my no. is (977)-193-2010 and  my revenuw is 90 million rupees now, letsd use regex to find number? like 2332 a phone no. J/+  9812345671\n",
    "'''\n",
    "pattern = '\\(\\d{3}\\)-\\d{3}-\\d{4}|\\d{10}'\n",
    "matches = re.findall(pattern,text)\n",
    "matches"
   ]
  },
  {
   "cell_type": "code",
   "execution_count": 4,
   "id": "556fb91d",
   "metadata": {},
   "outputs": [
    {
     "data": {
      "text/plain": [
       "['MitoChondiorio', 'Cellulas', 'Organ']"
      ]
     },
     "execution_count": 4,
     "metadata": {},
     "output_type": "execute_result"
    }
   ],
   "source": [
    "summary = '''\n",
    "\n",
    "Title 1 - About MitoChondiorio\n",
    "mito chondioa is asas jaosjasdd oasoas\n",
    "\n",
    "Title 2 - About Cellulas\n",
    "cellulas asi isdij isds dj\n",
    "\n",
    "Title 4 - About Organ\n",
    "asasklndslkknd asas asas\n",
    "'''\n",
    "sum_pattern = 'Title \\d - About ([^\\n]*)'\n",
    "only_title_name = re.findall(sum_pattern,summary)\n",
    "only_title_name\n"
   ]
  }
 ],
 "metadata": {
  "kernelspec": {
   "display_name": "Python 3",
   "language": "python",
   "name": "python3"
  },
  "language_info": {
   "codemirror_mode": {
    "name": "ipython",
    "version": 3
   },
   "file_extension": ".py",
   "mimetype": "text/x-python",
   "name": "python",
   "nbconvert_exporter": "python",
   "pygments_lexer": "ipython3",
   "version": "3.11.4"
  }
 },
 "nbformat": 4,
 "nbformat_minor": 5
}
